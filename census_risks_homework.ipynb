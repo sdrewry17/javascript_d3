{
 "cells": [
  {
   "cell_type": "code",
   "execution_count": 66,
   "metadata": {
    "collapsed": true
   },
   "outputs": [],
   "source": [
    "# Dependencies\n",
    "import numpy as np\n",
    "import pandas as pd\n",
    "import requests\n",
    "import json\n",
    "from pprint import pprint\n",
    "import time\n",
    "from datetime import timedelta,datetime,date\n",
    "\n",
    "# Libraries to support access to the  Census API wrapper\n",
    "from census import Census\n",
    "from config import census_api_key as api_key\n",
    "from us import states"
   ]
  },
  {
   "cell_type": "markdown",
   "metadata": {},
   "source": [
    "# Import Census Data"
   ]
  },
  {
   "cell_type": "code",
   "execution_count": 67,
   "metadata": {
    "collapsed": true
   },
   "outputs": [],
   "source": [
    "#setting an API object for the census data, with the desired year; 2016 is the latest data available at this level of detail from teh ACS5\n",
    "c = Census(api_key, year = 2016)\n",
    "\n",
    "#Setting the path for a sheet that contains codes and mapping for different categories of Census data\n",
    "census_terms_path = ('Census_search_terms.xlsx')\n",
    "\n",
    "#Creating dataframes from the XLSX which contain the codes for 59 different metrics and the FIPS state codes\n",
    "census_terms_df = pd.read_excel(census_terms_path, sheetname = \"Sheet1\")\n",
    "fips_codes_df = pd.read_excel(census_terms_path, sheetname = \"Sheet2\", dtype = str)"
   ]
  },
  {
   "cell_type": "code",
   "execution_count": 4,
   "metadata": {
    "scrolled": true
   },
   "outputs": [
    {
     "name": "stdout",
     "output_type": "stream",
     "text": [
      "grabbing B01001_001E\n",
      "grabbing B01001_002E\n",
      "grabbing B01001_026E\n",
      "grabbing B01002_001E\n",
      "grabbing B01002_002E\n",
      "grabbing B01002_003E\n",
      "grabbing B23025_001E\n",
      "grabbing B23025_002E\n",
      "grabbing B23025_003E\n",
      "grabbing B23025_004E\n",
      "grabbing B23025_005E\n",
      "grabbing B23025_006E\n",
      "grabbing B23025_007E\n",
      "grabbing B06009_001E\n",
      "grabbing B06009_002E\n",
      "grabbing B06009_003E\n",
      "grabbing B06009_004E\n",
      "grabbing B06009_005E\n",
      "grabbing B06009_006E\n",
      "grabbing B06010_001E\n",
      "grabbing B06010_002E\n",
      "grabbing B06010_003E\n",
      "grabbing B06010_004E\n",
      "grabbing B06010_005E\n",
      "grabbing B06010_006E\n",
      "grabbing B06010_007E\n",
      "grabbing B06010_008E\n",
      "grabbing B06010_009E\n",
      "grabbing B06010_010E\n",
      "grabbing B06010_011E\n",
      "grabbing B08122_001E\n",
      "grabbing B08122_005E\n",
      "grabbing B08122_009E\n",
      "grabbing B08122_013E\n",
      "grabbing B08122_017E\n",
      "grabbing B08122_021E\n",
      "grabbing B08122_025E\n",
      "grabbing B08124_001E\n",
      "grabbing B08124_002E\n",
      "grabbing B08124_003E\n",
      "grabbing B08124_004E\n",
      "grabbing B08124_005E\n",
      "grabbing B08124_006E\n",
      "grabbing B08124_007E\n",
      "grabbing B08126_001E\n",
      "grabbing B08126_002E\n",
      "grabbing B08126_003E\n",
      "grabbing B08126_004E\n",
      "grabbing B08126_005E\n",
      "grabbing B08126_006E\n",
      "grabbing B08126_007E\n",
      "grabbing B08126_008E\n",
      "grabbing B08126_009E\n",
      "grabbing B08126_010E\n",
      "grabbing B08126_011E\n",
      "grabbing B08126_012E\n",
      "grabbing B08126_013E\n",
      "grabbing B08126_014E\n",
      "grabbing B08126_015E\n"
     ]
    }
   ],
   "source": [
    "#grabbing census data from the Census API and putting into a list\n",
    "census_data = []\n",
    "\n",
    "for row in census_terms_df['code']:\n",
    "    try:\n",
    "        acs5_data = c.acs5.state(row, Census.ALL)\n",
    "        census_data.append(acs5_data)\n",
    "        print(f\"grabbing {row}\")\n",
    "    except:\n",
    "        print(f\"grabbing {row} failed\")"
   ]
  },
  {
   "cell_type": "code",
   "execution_count": 68,
   "metadata": {
    "collapsed": true
   },
   "outputs": [],
   "source": [
    "#taking all data from the list and adding it together into a single list\n",
    "#then create a dataframe out of each and appending together\n",
    "\n",
    "for i,data in enumerate(census_data):\n",
    "    if i == 0:\n",
    "        all_census_data_df = pd.DataFrame(data)\n",
    "        all_census_data_df.set_index('state', inplace = True)\n",
    "    else:\n",
    "        all_census_data_df_2 = pd.DataFrame(data)\n",
    "        all_census_data_df_2.set_index('state', inplace = True)\n",
    "        all_census_data_df = all_census_data_df.merge(all_census_data_df_2, left_index = True, right_index = True)"
   ]
  },
  {
   "cell_type": "code",
   "execution_count": 69,
   "metadata": {
    "collapsed": true
   },
   "outputs": [],
   "source": [
    "#create a dictionary with variable keys as the census code and variables as the variable names\n",
    "columns = dict(zip(census_terms_df['code'], census_terms_df['var_name']))"
   ]
  },
  {
   "cell_type": "code",
   "execution_count": 70,
   "metadata": {},
   "outputs": [
    {
     "name": "stdout",
     "output_type": "stream",
     "text": [
      "<class 'pandas.core.frame.DataFrame'>\n",
      "RangeIndex: 52 entries, 0 to 51\n",
      "Data columns (total 60 columns):\n",
      "state                                          52 non-null object\n",
      "tot_pop                                        52 non-null object\n",
      "male_pop                                       52 non-null float64\n",
      "female_pop                                     52 non-null float64\n",
      "median_age                                     52 non-null float64\n",
      "median_age_male                                52 non-null float64\n",
      "median_age_female                              52 non-null float64\n",
      "employ_status_tot                              52 non-null float64\n",
      "employ_status_working                          52 non-null float64\n",
      "employ_status_working_civ                      52 non-null float64\n",
      "employ_status_working_civ_employed             52 non-null float64\n",
      "employ_status_working_civ_unemployed           52 non-null float64\n",
      "employ_status_working_military                 52 non-null float64\n",
      "employ_status_not_working                      52 non-null float64\n",
      "birth_ed_tot                                   51 non-null float64\n",
      "birth_ed_less_than_high                        51 non-null float64\n",
      "birth_ed_high                                  51 non-null float64\n",
      "birth_ed_some_coll                             51 non-null float64\n",
      "birth_ed_batchelors                            51 non-null float64\n",
      "birth_ed_graduate                              51 non-null float64\n",
      "birth_income_tot                               51 non-null float64\n",
      "birth_income_none                              51 non-null float64\n",
      "birth_income_with _income                      51 non-null float64\n",
      "birth_income_less_10K                          51 non-null float64\n",
      "birth_income_10_15K                            51 non-null float64\n",
      "birth_income_15_25K                            51 non-null float64\n",
      "birth_income_25_35K                            51 non-null float64\n",
      "birth_income_35_50K                            51 non-null float64\n",
      "birth_income_50_65K                            51 non-null float64\n",
      "birth_income_65_75K                            51 non-null float64\n",
      "birth_income_more_75K                          51 non-null float64\n",
      "trans_tot                                      52 non-null float64\n",
      "trans_car_truck_van_alone                      52 non-null float64\n",
      "trans_car_truck_van_pool                       52 non-null float64\n",
      "trans_public                                   52 non-null float64\n",
      "trans_walked                                   52 non-null float64\n",
      "trans_taxi_bike_other                          52 non-null float64\n",
      "trans_worked_home                              52 non-null float64\n",
      "occupation_tot                                 52 non-null float64\n",
      "occupation_manage_bus_science_arts             52 non-null float64\n",
      "occupation_service                             52 non-null float64\n",
      "occupation_sales_office                        52 non-null float64\n",
      "occupation_resources_construct_maint           52 non-null float64\n",
      "occupation_production_transport                52 non-null float64\n",
      "occupation_military                            52 non-null float64\n",
      "industry_tot                                   52 non-null float64\n",
      "industry_ag_forestry_fish                      52 non-null float64\n",
      "industry_construction                          52 non-null float64\n",
      "industry_manufact                              52 non-null float64\n",
      "industry_wholesale                             52 non-null float64\n",
      "industry_retail                                52 non-null float64\n",
      "industry_trans                                 52 non-null float64\n",
      "industry_information                           52 non-null float64\n",
      "industry_finance_insure_realestate             52 non-null float64\n",
      "industry_professional_scientific_management    52 non-null float64\n",
      "industry_education_health_care                 52 non-null float64\n",
      "industry_arts_entertatinment                   52 non-null float64\n",
      "industry_other_services                        52 non-null float64\n",
      "industry_public_admin                          52 non-null float64\n",
      "industry_military                              52 non-null float64\n",
      "dtypes: float64(58), object(2)\n",
      "memory usage: 24.5+ KB\n"
     ]
    }
   ],
   "source": [
    "#rename columns to the human friendly variable names & then reset the index\n",
    "all_census_data_df = all_census_data_df.rename(columns = columns)\n",
    "all_census_data_df.reset_index(inplace = True)\n",
    "\n",
    "#check out the dataset\n",
    "all_census_data_df.info()"
   ]
  },
  {
   "cell_type": "code",
   "execution_count": 71,
   "metadata": {
    "collapsed": true
   },
   "outputs": [],
   "source": [
    "#merge the state codes into the list so that we have a human readable State\n",
    "all_census_data_df_with_states = pd.merge(all_census_data_df, fips_codes_df, left_on = 'state', right_on = \"FIPS\", how = \"inner\")"
   ]
  },
  {
   "cell_type": "code",
   "execution_count": 72,
   "metadata": {},
   "outputs": [
    {
     "name": "stdout",
     "output_type": "stream",
     "text": [
      "<class 'pandas.core.frame.DataFrame'>\n",
      "Int64Index: 52 entries, 0 to 51\n",
      "Data columns (total 62 columns):\n",
      "tot_pop                                        52 non-null int64\n",
      "male_pop                                       52 non-null float64\n",
      "female_pop                                     52 non-null float64\n",
      "median_age                                     52 non-null float64\n",
      "median_age_male                                52 non-null float64\n",
      "median_age_female                              52 non-null float64\n",
      "employ_status_tot                              52 non-null float64\n",
      "employ_status_working                          52 non-null float64\n",
      "employ_status_working_civ                      52 non-null float64\n",
      "employ_status_working_civ_employed             52 non-null float64\n",
      "employ_status_working_civ_unemployed           52 non-null float64\n",
      "employ_status_working_military                 52 non-null float64\n",
      "employ_status_not_working                      52 non-null float64\n",
      "birth_ed_tot                                   51 non-null float64\n",
      "birth_ed_less_than_high                        51 non-null float64\n",
      "birth_ed_high                                  51 non-null float64\n",
      "birth_ed_some_coll                             51 non-null float64\n",
      "birth_ed_batchelors                            51 non-null float64\n",
      "birth_ed_graduate                              51 non-null float64\n",
      "birth_income_tot                               51 non-null float64\n",
      "birth_income_none                              51 non-null float64\n",
      "birth_income_with _income                      51 non-null float64\n",
      "birth_income_less_10K                          51 non-null float64\n",
      "birth_income_10_15K                            51 non-null float64\n",
      "birth_income_15_25K                            51 non-null float64\n",
      "birth_income_25_35K                            51 non-null float64\n",
      "birth_income_35_50K                            51 non-null float64\n",
      "birth_income_50_65K                            51 non-null float64\n",
      "birth_income_65_75K                            51 non-null float64\n",
      "birth_income_more_75K                          51 non-null float64\n",
      "trans_tot                                      52 non-null float64\n",
      "trans_car_truck_van_alone                      52 non-null float64\n",
      "trans_car_truck_van_pool                       52 non-null float64\n",
      "trans_public                                   52 non-null float64\n",
      "trans_walked                                   52 non-null float64\n",
      "trans_taxi_bike_other                          52 non-null float64\n",
      "trans_worked_home                              52 non-null float64\n",
      "occupation_tot                                 52 non-null float64\n",
      "occupation_manage_bus_science_arts             52 non-null float64\n",
      "occupation_service                             52 non-null float64\n",
      "occupation_sales_office                        52 non-null float64\n",
      "occupation_resources_construct_maint           52 non-null float64\n",
      "occupation_production_transport                52 non-null float64\n",
      "occupation_military                            52 non-null float64\n",
      "industry_tot                                   52 non-null float64\n",
      "industry_ag_forestry_fish                      52 non-null float64\n",
      "industry_construction                          52 non-null float64\n",
      "industry_manufact                              52 non-null float64\n",
      "industry_wholesale                             52 non-null float64\n",
      "industry_retail                                52 non-null float64\n",
      "industry_trans                                 52 non-null float64\n",
      "industry_information                           52 non-null float64\n",
      "industry_finance_insure_realestate             52 non-null float64\n",
      "industry_professional_scientific_management    52 non-null float64\n",
      "industry_education_health_care                 52 non-null float64\n",
      "industry_arts_entertatinment                   52 non-null float64\n",
      "industry_other_services                        52 non-null float64\n",
      "industry_public_admin                          52 non-null float64\n",
      "industry_military                              52 non-null float64\n",
      "FIPS                                           52 non-null object\n",
      "State                                          52 non-null object\n",
      "Abbrev                                         52 non-null object\n",
      "dtypes: float64(58), int64(1), object(3)\n",
      "memory usage: 25.6+ KB\n"
     ]
    }
   ],
   "source": [
    "#Perform some cleansing on the file to remove unwanted columns and to ensure that one of population metrics is numeric data\n",
    "all_census_data_df_with_states.drop('state', axis = 1, inplace = True)\n",
    "all_census_data_df_with_states['tot_pop'] = all_census_data_df_with_states['tot_pop'].apply(pd.to_numeric)\n",
    "\n",
    "#recheck the data\n",
    "all_census_data_df_with_states.info()"
   ]
  },
  {
   "cell_type": "code",
   "execution_count": 73,
   "metadata": {},
   "outputs": [
    {
     "data": {
      "text/plain": [
       "array(['Alabama', 'Alaska', 'Arizona', 'Arkansas', 'California',\n",
       "       'Colorado', 'Connecticut', 'Delaware', 'District of Columbia',\n",
       "       'Florida', 'Georgia', 'Hawaii', 'Idaho', 'Illinois', 'Indiana',\n",
       "       'Iowa', 'Kansas', 'Kentucky', 'Louisiana', 'Maine', 'Maryland',\n",
       "       'Massachusetts', 'Michigan', 'Minnesota', 'Mississippi', 'Missouri',\n",
       "       'Montana', 'Nebraska', 'Nevada', 'New Hampshire', 'New Jersey',\n",
       "       'New Mexico', 'New York', 'North Carolina', 'North Dakota', 'Ohio',\n",
       "       'Oklahoma', 'Oregon', 'Pennsylvania', 'Rhode Island',\n",
       "       'South Carolina', 'South Dakota', 'Tennessee', 'Texas', 'Utah',\n",
       "       'Vermont', 'Virginia', 'Washington', 'West Virginia', 'Wisconsin',\n",
       "       'Wyoming', 'Puerto Rico'], dtype=object)"
      ]
     },
     "execution_count": 73,
     "metadata": {},
     "output_type": "execute_result"
    }
   ],
   "source": [
    "all_census_data_df_with_states['State'].unique()"
   ]
  },
  {
   "cell_type": "markdown",
   "metadata": {},
   "source": [
    "# Acquire risk factors data"
   ]
  },
  {
   "cell_type": "code",
   "execution_count": 74,
   "metadata": {
    "collapsed": true
   },
   "outputs": [],
   "source": [
    "#Setting the path for a sheet that contains risk factor data\n",
    "risk_path = ('BRFSS_2014_Overall.xlsx')\n",
    "\n",
    "#Creating dataframes from the CSV which contains the risk data\n",
    "risk_df = pd.read_excel(risk_path, sheetname = \"BRFSS_2014_Overall\")"
   ]
  },
  {
   "cell_type": "code",
   "execution_count": 75,
   "metadata": {},
   "outputs": [
    {
     "name": "stdout",
     "output_type": "stream",
     "text": [
      "<class 'pandas.core.frame.DataFrame'>\n",
      "RangeIndex: 9295 entries, 0 to 9294\n",
      "Data columns (total 27 columns):\n",
      "Year                          9295 non-null int64\n",
      "Locationabbr                  9295 non-null object\n",
      "Locationdesc                  9295 non-null object\n",
      "Class                         9295 non-null object\n",
      "Topic                         9295 non-null object\n",
      "Question                      9295 non-null object\n",
      "Response                      9295 non-null object\n",
      "Break_Out                     9295 non-null object\n",
      "Break_Out_Category            9295 non-null object\n",
      "Sample_Size                   9295 non-null int64\n",
      "Data_value                    9278 non-null float64\n",
      "Confidence_limit_Low          8940 non-null float64\n",
      "Confidence_limit_High         8940 non-null float64\n",
      "Display_order                 9295 non-null int64\n",
      "Data_value_unit               9295 non-null object\n",
      "Data_value_type               9295 non-null object\n",
      "Data_Value_Footnote_Symbol    17 non-null object\n",
      "Data_Value_Footnote           17 non-null object\n",
      "DataSource                    9295 non-null object\n",
      "ClassId                       9295 non-null object\n",
      "TopicId                       9295 non-null object\n",
      "LocationID                    9295 non-null int64\n",
      "BreakoutID                    9295 non-null object\n",
      "BreakOutCategoryID            9295 non-null object\n",
      "QuestionID                    9295 non-null object\n",
      "ResponseID                    9295 non-null object\n",
      "GeoLocation                   8957 non-null object\n",
      "dtypes: float64(3), int64(4), object(20)\n",
      "memory usage: 1.9+ MB\n"
     ]
    }
   ],
   "source": [
    "risk_df.info()"
   ]
  },
  {
   "cell_type": "markdown",
   "metadata": {},
   "source": [
    "# Merge risk factor data with census data"
   ]
  },
  {
   "cell_type": "code",
   "execution_count": 119,
   "metadata": {
    "collapsed": true
   },
   "outputs": [],
   "source": [
    "#merge the breweries count into a dataframe\n",
    "census_and_risks = pd.merge(risk_df, all_census_data_df_with_states, how = 'left', left_on = [\"Locationdesc\"], right_on = ['State'])"
   ]
  },
  {
   "cell_type": "code",
   "execution_count": 120,
   "metadata": {},
   "outputs": [
    {
     "name": "stdout",
     "output_type": "stream",
     "text": [
      "clases:  15 topics:  51 questions:  64 responses:  85\n"
     ]
    }
   ],
   "source": [
    "class_cat = census_and_risks['Class'].nunique()\n",
    "quest = census_and_risks['Question'].nunique()\n",
    "topic = census_and_risks['Topic'].nunique()\n",
    "responses = census_and_risks['Response'].nunique()\n",
    "print(\"clases: \", class_cat, \"topics: \", topic, \"questions: \", quest, \"responses: \", responses)"
   ]
  },
  {
   "cell_type": "code",
   "execution_count": 121,
   "metadata": {
    "collapsed": true
   },
   "outputs": [],
   "source": [
    "census_and_risks['combined'] = census_and_risks['Class'].astype(str) + \"-\" + census_and_risks['Topic'].astype(str) + \"-\" + census_and_risks['Question'].astype(str) + \"-\" + census_and_risks['Response'].astype(str) "
   ]
  },
  {
   "cell_type": "code",
   "execution_count": 122,
   "metadata": {
    "collapsed": true
   },
   "outputs": [],
   "source": [
    "census_and_risks = census_and_risks[census_and_risks['Class'] != 'Demographics']"
   ]
  },
  {
   "cell_type": "code",
   "execution_count": 80,
   "metadata": {
    "collapsed": true
   },
   "outputs": [],
   "source": [
    "drop_cols = ['Class', 'Topic', 'Question', 'Response', 'Year', 'Sample_Size', \n",
    "            'Confidence_limit_Low', 'Confidence_limit_High',\n",
    "            'Display_order', 'Data_Value_Footnote', 'Data_Value_Footnote_Symbol', 'Data_value_type',\n",
    "            'DataSource', 'ClassId', 'TopicId', 'LocationID', 'BreakoutID', \n",
    "            'BreakOutCategoryID', 'QuestionID', 'ResponseID', 'FIPS', 'State',\n",
    "            'Abbrev', 'GeoLocation', 'Break_Out', 'Break_Out_Category', 'Data_value_unit', 'Locationabbr']"
   ]
  },
  {
   "cell_type": "code",
   "execution_count": 81,
   "metadata": {},
   "outputs": [
    {
     "data": {
      "text/html": [
       "<div>\n",
       "<style>\n",
       "    .dataframe thead tr:only-child th {\n",
       "        text-align: right;\n",
       "    }\n",
       "\n",
       "    .dataframe thead th {\n",
       "        text-align: left;\n",
       "    }\n",
       "\n",
       "    .dataframe tbody tr th {\n",
       "        vertical-align: top;\n",
       "    }\n",
       "</style>\n",
       "<table border=\"1\" class=\"dataframe\">\n",
       "  <thead>\n",
       "    <tr style=\"text-align: right;\">\n",
       "      <th></th>\n",
       "      <th>Year</th>\n",
       "      <th>Locationabbr</th>\n",
       "      <th>Locationdesc</th>\n",
       "      <th>Class</th>\n",
       "      <th>Topic</th>\n",
       "      <th>Question</th>\n",
       "      <th>Response</th>\n",
       "      <th>Break_Out</th>\n",
       "      <th>Break_Out_Category</th>\n",
       "      <th>Sample_Size</th>\n",
       "      <th>...</th>\n",
       "      <th>industry_professional_scientific_management</th>\n",
       "      <th>industry_education_health_care</th>\n",
       "      <th>industry_arts_entertatinment</th>\n",
       "      <th>industry_other_services</th>\n",
       "      <th>industry_public_admin</th>\n",
       "      <th>industry_military</th>\n",
       "      <th>FIPS</th>\n",
       "      <th>State</th>\n",
       "      <th>Abbrev</th>\n",
       "      <th>combined</th>\n",
       "    </tr>\n",
       "  </thead>\n",
       "  <tbody>\n",
       "    <tr>\n",
       "      <th>5</th>\n",
       "      <td>2014</td>\n",
       "      <td>AL</td>\n",
       "      <td>Alabama</td>\n",
       "      <td>Alcohol Consumption</td>\n",
       "      <td>Alcohol Consumption</td>\n",
       "      <td>Adults who have had at least one drink of alco...</td>\n",
       "      <td>Yes</td>\n",
       "      <td>Overall</td>\n",
       "      <td>Overall</td>\n",
       "      <td>2887</td>\n",
       "      <td>...</td>\n",
       "      <td>186890.0</td>\n",
       "      <td>447613.0</td>\n",
       "      <td>166160.0</td>\n",
       "      <td>103169.0</td>\n",
       "      <td>112245.0</td>\n",
       "      <td>12132.0</td>\n",
       "      <td>01</td>\n",
       "      <td>Alabama</td>\n",
       "      <td>AL</td>\n",
       "      <td>Alcohol Consumption-Alcohol Consumption-Adults...</td>\n",
       "    </tr>\n",
       "    <tr>\n",
       "      <th>6</th>\n",
       "      <td>2014</td>\n",
       "      <td>AL</td>\n",
       "      <td>Alabama</td>\n",
       "      <td>Alcohol Consumption</td>\n",
       "      <td>Alcohol Consumption</td>\n",
       "      <td>Adults who have had at least one drink of alco...</td>\n",
       "      <td>No</td>\n",
       "      <td>Overall</td>\n",
       "      <td>Overall</td>\n",
       "      <td>5415</td>\n",
       "      <td>...</td>\n",
       "      <td>186890.0</td>\n",
       "      <td>447613.0</td>\n",
       "      <td>166160.0</td>\n",
       "      <td>103169.0</td>\n",
       "      <td>112245.0</td>\n",
       "      <td>12132.0</td>\n",
       "      <td>01</td>\n",
       "      <td>Alabama</td>\n",
       "      <td>AL</td>\n",
       "      <td>Alcohol Consumption-Alcohol Consumption-Adults...</td>\n",
       "    </tr>\n",
       "    <tr>\n",
       "      <th>7</th>\n",
       "      <td>2014</td>\n",
       "      <td>AL</td>\n",
       "      <td>Alabama</td>\n",
       "      <td>Alcohol Consumption</td>\n",
       "      <td>Binge Drinking</td>\n",
       "      <td>Binge drinkers (males having five or more drin...</td>\n",
       "      <td>Yes</td>\n",
       "      <td>Overall</td>\n",
       "      <td>Overall</td>\n",
       "      <td>677</td>\n",
       "      <td>...</td>\n",
       "      <td>186890.0</td>\n",
       "      <td>447613.0</td>\n",
       "      <td>166160.0</td>\n",
       "      <td>103169.0</td>\n",
       "      <td>112245.0</td>\n",
       "      <td>12132.0</td>\n",
       "      <td>01</td>\n",
       "      <td>Alabama</td>\n",
       "      <td>AL</td>\n",
       "      <td>Alcohol Consumption-Binge Drinking-Binge drink...</td>\n",
       "    </tr>\n",
       "    <tr>\n",
       "      <th>8</th>\n",
       "      <td>2014</td>\n",
       "      <td>AL</td>\n",
       "      <td>Alabama</td>\n",
       "      <td>Alcohol Consumption</td>\n",
       "      <td>Binge Drinking</td>\n",
       "      <td>Binge drinkers (males having five or more drin...</td>\n",
       "      <td>No</td>\n",
       "      <td>Overall</td>\n",
       "      <td>Overall</td>\n",
       "      <td>7553</td>\n",
       "      <td>...</td>\n",
       "      <td>186890.0</td>\n",
       "      <td>447613.0</td>\n",
       "      <td>166160.0</td>\n",
       "      <td>103169.0</td>\n",
       "      <td>112245.0</td>\n",
       "      <td>12132.0</td>\n",
       "      <td>01</td>\n",
       "      <td>Alabama</td>\n",
       "      <td>AL</td>\n",
       "      <td>Alcohol Consumption-Binge Drinking-Binge drink...</td>\n",
       "    </tr>\n",
       "    <tr>\n",
       "      <th>9</th>\n",
       "      <td>2014</td>\n",
       "      <td>AL</td>\n",
       "      <td>Alabama</td>\n",
       "      <td>Alcohol Consumption</td>\n",
       "      <td>Heavy Drinking</td>\n",
       "      <td>Heavy drinkers (adult men having more than two...</td>\n",
       "      <td>Yes</td>\n",
       "      <td>Overall</td>\n",
       "      <td>Overall</td>\n",
       "      <td>322</td>\n",
       "      <td>...</td>\n",
       "      <td>186890.0</td>\n",
       "      <td>447613.0</td>\n",
       "      <td>166160.0</td>\n",
       "      <td>103169.0</td>\n",
       "      <td>112245.0</td>\n",
       "      <td>12132.0</td>\n",
       "      <td>01</td>\n",
       "      <td>Alabama</td>\n",
       "      <td>AL</td>\n",
       "      <td>Alcohol Consumption-Heavy Drinking-Heavy drink...</td>\n",
       "    </tr>\n",
       "  </tbody>\n",
       "</table>\n",
       "<p>5 rows × 90 columns</p>\n",
       "</div>"
      ],
      "text/plain": [
       "   Year Locationabbr Locationdesc                Class                Topic  \\\n",
       "5  2014           AL      Alabama  Alcohol Consumption  Alcohol Consumption   \n",
       "6  2014           AL      Alabama  Alcohol Consumption  Alcohol Consumption   \n",
       "7  2014           AL      Alabama  Alcohol Consumption       Binge Drinking   \n",
       "8  2014           AL      Alabama  Alcohol Consumption       Binge Drinking   \n",
       "9  2014           AL      Alabama  Alcohol Consumption       Heavy Drinking   \n",
       "\n",
       "                                            Question Response Break_Out  \\\n",
       "5  Adults who have had at least one drink of alco...      Yes   Overall   \n",
       "6  Adults who have had at least one drink of alco...       No   Overall   \n",
       "7  Binge drinkers (males having five or more drin...      Yes   Overall   \n",
       "8  Binge drinkers (males having five or more drin...       No   Overall   \n",
       "9  Heavy drinkers (adult men having more than two...      Yes   Overall   \n",
       "\n",
       "  Break_Out_Category  Sample_Size  \\\n",
       "5            Overall         2887   \n",
       "6            Overall         5415   \n",
       "7            Overall          677   \n",
       "8            Overall         7553   \n",
       "9            Overall          322   \n",
       "\n",
       "                         ...                          \\\n",
       "5                        ...                           \n",
       "6                        ...                           \n",
       "7                        ...                           \n",
       "8                        ...                           \n",
       "9                        ...                           \n",
       "\n",
       "   industry_professional_scientific_management  \\\n",
       "5                                     186890.0   \n",
       "6                                     186890.0   \n",
       "7                                     186890.0   \n",
       "8                                     186890.0   \n",
       "9                                     186890.0   \n",
       "\n",
       "   industry_education_health_care  industry_arts_entertatinment  \\\n",
       "5                        447613.0                      166160.0   \n",
       "6                        447613.0                      166160.0   \n",
       "7                        447613.0                      166160.0   \n",
       "8                        447613.0                      166160.0   \n",
       "9                        447613.0                      166160.0   \n",
       "\n",
       "   industry_other_services industry_public_admin industry_military FIPS  \\\n",
       "5                 103169.0              112245.0           12132.0   01   \n",
       "6                 103169.0              112245.0           12132.0   01   \n",
       "7                 103169.0              112245.0           12132.0   01   \n",
       "8                 103169.0              112245.0           12132.0   01   \n",
       "9                 103169.0              112245.0           12132.0   01   \n",
       "\n",
       "     State Abbrev                                           combined  \n",
       "5  Alabama     AL  Alcohol Consumption-Alcohol Consumption-Adults...  \n",
       "6  Alabama     AL  Alcohol Consumption-Alcohol Consumption-Adults...  \n",
       "7  Alabama     AL  Alcohol Consumption-Binge Drinking-Binge drink...  \n",
       "8  Alabama     AL  Alcohol Consumption-Binge Drinking-Binge drink...  \n",
       "9  Alabama     AL  Alcohol Consumption-Heavy Drinking-Heavy drink...  \n",
       "\n",
       "[5 rows x 90 columns]"
      ]
     },
     "execution_count": 81,
     "metadata": {},
     "output_type": "execute_result"
    }
   ],
   "source": [
    "census_and_risks.head()"
   ]
  },
  {
   "cell_type": "code",
   "execution_count": 82,
   "metadata": {
    "collapsed": true
   },
   "outputs": [],
   "source": [
    "census_and_risks.drop(drop_cols, axis = 1, inplace = True)\n",
    "census_and_risks.reset_index(drop = True, inplace = True)"
   ]
  },
  {
   "cell_type": "code",
   "execution_count": 123,
   "metadata": {},
   "outputs": [],
   "source": [
    "census_and_risks = census_and_risks[(census_and_risks['Locationdesc'] != 'Guam') \n",
    "                 & (census_and_risks['Locationdesc'] != 'All States and DC (median) **') \n",
    "                 & (census_and_risks['Locationdesc'] != 'All States, DC and Territories (median) **')]"
   ]
  },
  {
   "cell_type": "code",
   "execution_count": 124,
   "metadata": {
    "collapsed": true
   },
   "outputs": [],
   "source": [
    "census_and_risks.to_csv('census_and_risks.csv', index = False)"
   ]
  },
  {
   "cell_type": "markdown",
   "metadata": {},
   "source": [
    "## Find a correlation in the data"
   ]
  },
  {
   "cell_type": "code",
   "execution_count": 99,
   "metadata": {
    "collapsed": true
   },
   "outputs": [],
   "source": [
    "combined_qs = census_and_risks['combined'].unique()"
   ]
  },
  {
   "cell_type": "code",
   "execution_count": 100,
   "metadata": {
    "collapsed": true
   },
   "outputs": [],
   "source": [
    "i = 0\n",
    "for q in combined_qs:\n",
    "    if i == 0:\n",
    "        result = census_and_risks[census_and_risks['combined'] == q].corr()\n",
    "        result = pd.DataFrame(result.iloc[0])\n",
    "        result.rename(columns = {'Data_value': q}, inplace = True)\n",
    "    else:\n",
    "        result2 = census_and_risks[census_and_risks['combined'] == q].corr()\n",
    "        result2 = pd.DataFrame(result2.iloc[0])\n",
    "        result2.rename(columns = {'Data_value': q}, inplace = True)\n",
    "        result = result.merge(result2, right_index = True, left_index = True)\n",
    "    i += 1"
   ]
  },
  {
   "cell_type": "code",
   "execution_count": 101,
   "metadata": {
    "collapsed": true
   },
   "outputs": [],
   "source": [
    "result = result.transpose()"
   ]
  },
  {
   "cell_type": "code",
   "execution_count": 103,
   "metadata": {},
   "outputs": [],
   "source": [
    "result.to_csv('result.csv')"
   ]
  },
  {
   "cell_type": "markdown",
   "metadata": {
    "collapsed": true
   },
   "source": [
    "## Create CSV with only the highly correlated data"
   ]
  },
  {
   "attachments": {},
   "cell_type": "markdown",
   "metadata": {},
   "source": [
    "* Tobacco Use-Smoker Status-Four Level Smoking Status (variable calculated from one or more BRFSS questions)-Former smoker\n",
    "* median_age_male"
   ]
  },
  {
   "cell_type": "code",
   "execution_count": 125,
   "metadata": {},
   "outputs": [],
   "source": [
    "census_and_risks2 = pd.read_csv('census_and_risks.csv')"
   ]
  },
  {
   "cell_type": "code",
   "execution_count": 126,
   "metadata": {},
   "outputs": [],
   "source": [
    "target = census_and_risks2[census_and_risks2['Class'] == \"Tobacco Use\"].copy()\n",
    "target = target[(target['Topic'] == \"Smoker Status\") & (target['Response'] == \"Former smoker\")]"
   ]
  },
  {
   "cell_type": "code",
   "execution_count": 129,
   "metadata": {},
   "outputs": [
    {
     "data": {
      "text/plain": [
       "Index(['Year', 'Locationabbr', 'Locationdesc', 'Class', 'Topic', 'Question',\n",
       "       'Response', 'Break_Out', 'Break_Out_Category', 'Sample_Size',\n",
       "       'Data_value', 'Confidence_limit_Low', 'Confidence_limit_High',\n",
       "       'Display_order', 'Data_value_unit', 'Data_value_type',\n",
       "       'Data_Value_Footnote_Symbol', 'Data_Value_Footnote', 'DataSource',\n",
       "       'ClassId', 'TopicId', 'LocationID', 'BreakoutID', 'BreakOutCategoryID',\n",
       "       'QuestionID', 'ResponseID', 'GeoLocation', 'tot_pop', 'male_pop',\n",
       "       'female_pop', 'median_age', 'median_age_male', 'median_age_female',\n",
       "       'employ_status_tot', 'employ_status_working',\n",
       "       'employ_status_working_civ', 'employ_status_working_civ_employed',\n",
       "       'employ_status_working_civ_unemployed',\n",
       "       'employ_status_working_military', 'employ_status_not_working',\n",
       "       'birth_ed_tot', 'birth_ed_less_than_high', 'birth_ed_high',\n",
       "       'birth_ed_some_coll', 'birth_ed_batchelors', 'birth_ed_graduate',\n",
       "       'birth_income_tot', 'birth_income_none', 'birth_income_with _income',\n",
       "       'birth_income_less_10K', 'birth_income_10_15K', 'birth_income_15_25K',\n",
       "       'birth_income_25_35K', 'birth_income_35_50K', 'birth_income_50_65K',\n",
       "       'birth_income_65_75K', 'birth_income_more_75K', 'trans_tot',\n",
       "       'trans_car_truck_van_alone', 'trans_car_truck_van_pool', 'trans_public',\n",
       "       'trans_walked', 'trans_taxi_bike_other', 'trans_worked_home',\n",
       "       'occupation_tot', 'occupation_manage_bus_science_arts',\n",
       "       'occupation_service', 'occupation_sales_office',\n",
       "       'occupation_resources_construct_maint',\n",
       "       'occupation_production_transport', 'occupation_military',\n",
       "       'industry_tot', 'industry_ag_forestry_fish', 'industry_construction',\n",
       "       'industry_manufact', 'industry_wholesale', 'industry_retail',\n",
       "       'industry_trans', 'industry_information',\n",
       "       'industry_finance_insure_realestate',\n",
       "       'industry_professional_scientific_management',\n",
       "       'industry_education_health_care', 'industry_arts_entertatinment',\n",
       "       'industry_other_services', 'industry_public_admin', 'industry_military',\n",
       "       'FIPS', 'State', 'Abbrev', 'combined'],\n",
       "      dtype='object')"
      ]
     },
     "execution_count": 129,
     "metadata": {},
     "output_type": "execute_result"
    }
   ],
   "source": [
    "target.columns"
   ]
  },
  {
   "cell_type": "code",
   "execution_count": 130,
   "metadata": {
    "collapsed": true
   },
   "outputs": [],
   "source": [
    "columns = ['Locationabbr', 'median_age_male', 'Data_value']"
   ]
  },
  {
   "cell_type": "code",
   "execution_count": 132,
   "metadata": {},
   "outputs": [],
   "source": [
    "target = target[columns].reset_index(drop = True)"
   ]
  },
  {
   "cell_type": "code",
   "execution_count": 133,
   "metadata": {},
   "outputs": [
    {
     "data": {
      "text/html": [
       "<div>\n",
       "<style>\n",
       "    .dataframe thead tr:only-child th {\n",
       "        text-align: right;\n",
       "    }\n",
       "\n",
       "    .dataframe thead th {\n",
       "        text-align: left;\n",
       "    }\n",
       "\n",
       "    .dataframe tbody tr th {\n",
       "        vertical-align: top;\n",
       "    }\n",
       "</style>\n",
       "<table border=\"1\" class=\"dataframe\">\n",
       "  <thead>\n",
       "    <tr style=\"text-align: right;\">\n",
       "      <th></th>\n",
       "      <th>Locationabbr</th>\n",
       "      <th>median_age_male</th>\n",
       "      <th>Data_value</th>\n",
       "    </tr>\n",
       "  </thead>\n",
       "  <tbody>\n",
       "    <tr>\n",
       "      <th>0</th>\n",
       "      <td>AL</td>\n",
       "      <td>37.1</td>\n",
       "      <td>24.6</td>\n",
       "    </tr>\n",
       "    <tr>\n",
       "      <th>1</th>\n",
       "      <td>AK</td>\n",
       "      <td>33.3</td>\n",
       "      <td>25.7</td>\n",
       "    </tr>\n",
       "    <tr>\n",
       "      <th>2</th>\n",
       "      <td>AZ</td>\n",
       "      <td>35.8</td>\n",
       "      <td>26.5</td>\n",
       "    </tr>\n",
       "    <tr>\n",
       "      <th>3</th>\n",
       "      <td>AR</td>\n",
       "      <td>36.4</td>\n",
       "      <td>25.2</td>\n",
       "    </tr>\n",
       "    <tr>\n",
       "      <th>4</th>\n",
       "      <td>CA</td>\n",
       "      <td>34.9</td>\n",
       "      <td>22.8</td>\n",
       "    </tr>\n",
       "  </tbody>\n",
       "</table>\n",
       "</div>"
      ],
      "text/plain": [
       "  Locationabbr  median_age_male  Data_value\n",
       "0           AL             37.1        24.6\n",
       "1           AK             33.3        25.7\n",
       "2           AZ             35.8        26.5\n",
       "3           AR             36.4        25.2\n",
       "4           CA             34.9        22.8"
      ]
     },
     "execution_count": 133,
     "metadata": {},
     "output_type": "execute_result"
    }
   ],
   "source": [
    "target.head()"
   ]
  },
  {
   "cell_type": "code",
   "execution_count": 134,
   "metadata": {
    "collapsed": true
   },
   "outputs": [],
   "source": [
    "target.to_csv('target.csv', index = False)"
   ]
  },
  {
   "cell_type": "code",
   "execution_count": null,
   "metadata": {
    "collapsed": true
   },
   "outputs": [],
   "source": []
  }
 ],
 "metadata": {
  "kernelspec": {
   "display_name": "Python 3",
   "language": "python",
   "name": "python3"
  },
  "language_info": {
   "codemirror_mode": {
    "name": "ipython",
    "version": 3
   },
   "file_extension": ".py",
   "mimetype": "text/x-python",
   "name": "python",
   "nbconvert_exporter": "python",
   "pygments_lexer": "ipython3",
   "version": "3.6.3"
  }
 },
 "nbformat": 4,
 "nbformat_minor": 2
}
